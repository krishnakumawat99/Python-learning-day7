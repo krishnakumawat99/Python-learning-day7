{
  "nbformat": 4,
  "nbformat_minor": 0,
  "metadata": {
    "colab": {
      "provenance": []
    },
    "kernelspec": {
      "name": "python3",
      "display_name": "Python 3"
    },
    "language_info": {
      "name": "python"
    }
  },
  "cells": [
    {
      "cell_type": "code",
      "execution_count": null,
      "metadata": {
        "colab": {
          "base_uri": "https://localhost:8080/"
        },
        "id": "3xuL4TfC_G2g",
        "outputId": "d29d599e-b300-4e97-865b-32647cbda3a7"
      },
      "outputs": [
        {
          "output_type": "stream",
          "name": "stdout",
          "text": [
            "person 1\n",
            "person 2\n",
            "person 3\n",
            "person 4\n"
          ]
        }
      ],
      "source": [
        "# nested loops\n",
        "for i in range(1,5):\n",
        "  print(\"person\",i)"
      ]
    },
    {
      "cell_type": "code",
      "source": [
        "for i in range(1,5):\n",
        "  print(\"person\",i)\n",
        "  break"
      ],
      "metadata": {
        "colab": {
          "base_uri": "https://localhost:8080/"
        },
        "id": "HEbxBWVSDESS",
        "outputId": "bc2185ae-e0a6-42df-dbf7-dce3dab4a82a"
      },
      "execution_count": null,
      "outputs": [
        {
          "output_type": "stream",
          "name": "stdout",
          "text": [
            "person 1\n"
          ]
        }
      ]
    },
    {
      "cell_type": "code",
      "source": [
        "for i in range(1,5):\n",
        "  print(\"person\",i)\n",
        "  for j in range(1,5):\n",
        "    print(\"good morning\",j)"
      ],
      "metadata": {
        "colab": {
          "base_uri": "https://localhost:8080/"
        },
        "id": "8KvKosRvDkwl",
        "outputId": "0a5d1520-990d-47d2-a399-6d3143a9f13a"
      },
      "execution_count": null,
      "outputs": [
        {
          "output_type": "stream",
          "name": "stdout",
          "text": [
            "person 1\n",
            "good morning 1\n",
            "good morning 2\n",
            "good morning 3\n",
            "good morning 4\n",
            "person 2\n",
            "good morning 1\n",
            "good morning 2\n",
            "good morning 3\n",
            "good morning 4\n",
            "person 3\n",
            "good morning 1\n",
            "good morning 2\n",
            "good morning 3\n",
            "good morning 4\n",
            "person 4\n",
            "good morning 1\n",
            "good morning 2\n",
            "good morning 3\n",
            "good morning 4\n"
          ]
        }
      ]
    },
    {
      "cell_type": "code",
      "source": [
        "for i in range(1,5):\n",
        "  print(\"person\",i)\n",
        "  for j in range(1,5):\n",
        "    print(\"good morning=>\",\"i\",i,\"j\",j)"
      ],
      "metadata": {
        "colab": {
          "base_uri": "https://localhost:8080/"
        },
        "id": "wk9Azjt3DyYQ",
        "outputId": "6509dd06-922c-4630-b4fb-f8fb38fe3edd"
      },
      "execution_count": null,
      "outputs": [
        {
          "output_type": "stream",
          "name": "stdout",
          "text": [
            "person 1\n",
            "good morning=> i 1 j 1\n",
            "good morning=> i 1 j 2\n",
            "good morning=> i 1 j 3\n",
            "good morning=> i 1 j 4\n",
            "person 2\n",
            "good morning=> i 2 j 1\n",
            "good morning=> i 2 j 2\n",
            "good morning=> i 2 j 3\n",
            "good morning=> i 2 j 4\n",
            "person 3\n",
            "good morning=> i 3 j 1\n",
            "good morning=> i 3 j 2\n",
            "good morning=> i 3 j 3\n",
            "good morning=> i 3 j 4\n",
            "person 4\n",
            "good morning=> i 4 j 1\n",
            "good morning=> i 4 j 2\n",
            "good morning=> i 4 j 3\n",
            "good morning=> i 4 j 4\n"
          ]
        }
      ]
    },
    {
      "cell_type": "code",
      "source": [
        "for i in range(1,5):\n",
        "  print(\"person\",i)\n",
        "  for j in range(5,1,-1):\n",
        "    print(\"good morning\",j)"
      ],
      "metadata": {
        "colab": {
          "base_uri": "https://localhost:8080/"
        },
        "id": "wtbotKwiEMeD",
        "outputId": "85c94dcb-095c-4f35-a0ca-b46776ef05ac"
      },
      "execution_count": null,
      "outputs": [
        {
          "output_type": "stream",
          "name": "stdout",
          "text": [
            "person 1\n",
            "good morning 5\n",
            "good morning 4\n",
            "good morning 3\n",
            "good morning 2\n",
            "person 2\n",
            "good morning 5\n",
            "good morning 4\n",
            "good morning 3\n",
            "good morning 2\n",
            "person 3\n",
            "good morning 5\n",
            "good morning 4\n",
            "good morning 3\n",
            "good morning 2\n",
            "person 4\n",
            "good morning 5\n",
            "good morning 4\n",
            "good morning 3\n",
            "good morning 2\n"
          ]
        }
      ]
    },
    {
      "cell_type": "code",
      "source": [
        "for i in range(5,1,-1):\n",
        "  print(\"person\",i)\n",
        "  for j in range(1,5):\n",
        "    print(\"good morning\",j)"
      ],
      "metadata": {
        "colab": {
          "base_uri": "https://localhost:8080/"
        },
        "id": "Paf5x-ttFHwG",
        "outputId": "194ef77e-244e-4376-8f4c-0b1afadd82f7"
      },
      "execution_count": null,
      "outputs": [
        {
          "output_type": "stream",
          "name": "stdout",
          "text": [
            "person 5\n",
            "good morning 1\n",
            "good morning 2\n",
            "good morning 3\n",
            "good morning 4\n",
            "person 4\n",
            "good morning 1\n",
            "good morning 2\n",
            "good morning 3\n",
            "good morning 4\n",
            "person 3\n",
            "good morning 1\n",
            "good morning 2\n",
            "good morning 3\n",
            "good morning 4\n",
            "person 2\n",
            "good morning 1\n",
            "good morning 2\n",
            "good morning 3\n",
            "good morning 4\n"
          ]
        }
      ]
    },
    {
      "cell_type": "code",
      "source": [
        "for i in range(1,5):\n",
        "  print(\"person\",i)\n",
        "  for j in range(1,i+1): #(1,1+1) (1,2+1) (1,3+1)\n",
        "    print(\"good morning\",j)"
      ],
      "metadata": {
        "colab": {
          "base_uri": "https://localhost:8080/"
        },
        "id": "rQb-PMJwFabg",
        "outputId": "c619aebd-17ee-48f4-e471-2866a9612eda"
      },
      "execution_count": null,
      "outputs": [
        {
          "output_type": "stream",
          "name": "stdout",
          "text": [
            "person 1\n",
            "good morning 1\n",
            "person 2\n",
            "good morning 1\n",
            "good morning 2\n",
            "person 3\n",
            "good morning 1\n",
            "good morning 2\n",
            "good morning 3\n",
            "person 4\n",
            "good morning 1\n",
            "good morning 2\n",
            "good morning 3\n",
            "good morning 4\n"
          ]
        }
      ]
    },
    {
      "cell_type": "code",
      "source": [
        "for i in range(1,5):\n",
        "    print(\"person\",i)\n",
        "    for j in range(i,5):\n",
        "        print(\"good morning\",j)"
      ],
      "metadata": {
        "colab": {
          "base_uri": "https://localhost:8080/"
        },
        "id": "nFMyXiaFFyde",
        "outputId": "36ccb555-d37a-4b4b-a97c-ca1be14f6a2e"
      },
      "execution_count": null,
      "outputs": [
        {
          "output_type": "stream",
          "name": "stdout",
          "text": [
            "person 1\n",
            "good morning 1\n",
            "good morning 2\n",
            "good morning 3\n",
            "good morning 4\n",
            "person 2\n",
            "good morning 2\n",
            "good morning 3\n",
            "good morning 4\n",
            "person 3\n",
            "good morning 3\n",
            "good morning 4\n",
            "person 4\n",
            "good morning 4\n"
          ]
        }
      ]
    },
    {
      "cell_type": "code",
      "source": [
        "for i in range(5,1,-1):\n",
        "    print(\"person\",i)\n",
        "    for j in range(6,i,-1):\n",
        "        print(\"good morning\",j)"
      ],
      "metadata": {
        "colab": {
          "base_uri": "https://localhost:8080/"
        },
        "id": "VRmebP4rG9kv",
        "outputId": "6c15470c-164b-4c65-ee66-b365b6236365"
      },
      "execution_count": null,
      "outputs": [
        {
          "output_type": "stream",
          "name": "stdout",
          "text": [
            "person 5\n",
            "good morning 6\n",
            "person 4\n",
            "good morning 6\n",
            "good morning 5\n",
            "person 3\n",
            "good morning 6\n",
            "good morning 5\n",
            "good morning 4\n",
            "person 2\n",
            "good morning 6\n",
            "good morning 5\n",
            "good morning 4\n",
            "good morning 3\n"
          ]
        }
      ]
    },
    {
      "cell_type": "code",
      "source": [
        "for i in range(5,1,-1):\n",
        "    print(\"person\",i)\n",
        "    for j in range(i,6):\n",
        "        print(\"good morning\",j)"
      ],
      "metadata": {
        "colab": {
          "base_uri": "https://localhost:8080/"
        },
        "id": "AMykC-m_HvEk",
        "outputId": "3630f9cf-52a6-493b-c44c-a464604042d4"
      },
      "execution_count": null,
      "outputs": [
        {
          "output_type": "stream",
          "name": "stdout",
          "text": [
            "person 5\n",
            "good morning 5\n",
            "person 4\n",
            "good morning 4\n",
            "good morning 5\n",
            "person 3\n",
            "good morning 3\n",
            "good morning 4\n",
            "good morning 5\n",
            "person 2\n",
            "good morning 2\n",
            "good morning 3\n",
            "good morning 4\n",
            "good morning 5\n"
          ]
        }
      ]
    },
    {
      "cell_type": "code",
      "source": [
        "# table 2,3,4,5,6\n",
        "for i in range(2, 7):\n",
        "    for j in range(1, 11):\n",
        "        print(i*j,end=\" \")"
      ],
      "metadata": {
        "colab": {
          "base_uri": "https://localhost:8080/"
        },
        "id": "sGI8UYErIq3M",
        "outputId": "9d1d9ef8-91d0-41e8-f56f-1bed7340f210"
      },
      "execution_count": null,
      "outputs": [
        {
          "output_type": "stream",
          "name": "stdout",
          "text": [
            "2 4 6 8 10 12 14 16 18 20 3 6 9 12 15 18 21 24 27 30 4 8 12 16 20 24 28 32 36 40 5 10 15 20 25 30 35 40 45 50 6 12 18 24 30 36 42 48 54 60 "
          ]
        }
      ]
    },
    {
      "cell_type": "code",
      "source": [
        "for i in range(2,7,2):\n",
        "  if(i%2==0):\n",
        "    print(\"even number\",i)\n",
        "  for j in range(1, 11):\n",
        "        print(i*j)"
      ],
      "metadata": {
        "colab": {
          "base_uri": "https://localhost:8080/"
        },
        "id": "xucRf4DeI8sf",
        "outputId": "1bc96e1d-c049-4b88-960c-7f173f70cdc0"
      },
      "execution_count": null,
      "outputs": [
        {
          "output_type": "stream",
          "name": "stdout",
          "text": [
            "even number 2\n",
            "2\n",
            "4\n",
            "6\n",
            "8\n",
            "10\n",
            "12\n",
            "14\n",
            "16\n",
            "18\n",
            "20\n",
            "even number 4\n",
            "4\n",
            "8\n",
            "12\n",
            "16\n",
            "20\n",
            "24\n",
            "28\n",
            "32\n",
            "36\n",
            "40\n",
            "even number 6\n",
            "6\n",
            "12\n",
            "18\n",
            "24\n",
            "30\n",
            "36\n",
            "42\n",
            "48\n",
            "54\n",
            "60\n"
          ]
        }
      ]
    },
    {
      "cell_type": "code",
      "source": [
        "# prime number\n",
        "num=13\n",
        "a=0\n",
        "for x in range(2,num):\n",
        "    if(num%x==0):\n",
        "        a=1\n",
        "        break\n",
        "\n",
        "if(a==1):\n",
        "    print(\"not a prime\",num)\n",
        "else:\n",
        "    print(\"prime number\",num)"
      ],
      "metadata": {
        "id": "1a1GdAS-LIwJ",
        "colab": {
          "base_uri": "https://localhost:8080/"
        },
        "outputId": "8bbace01-2291-4908-b8c0-1105c9d6bef4"
      },
      "execution_count": null,
      "outputs": [
        {
          "output_type": "stream",
          "name": "stdout",
          "text": [
            "prime number 13\n"
          ]
        }
      ]
    },
    {
      "cell_type": "code",
      "source": [
        "for n in range(2,12):\n",
        "  a=0\n",
        "  for i in range(2,n):\n",
        "    if(n%i==0):\n",
        "      a=1\n",
        "      break\n",
        "\n",
        "  if(a==0):\n",
        "    print(\"prime number\",n)\n",
        "  else:\n",
        "    print(\"not prime\",n)"
      ],
      "metadata": {
        "colab": {
          "base_uri": "https://localhost:8080/"
        },
        "id": "Z5LUWpDwNMXX",
        "outputId": "e402b266-10aa-405c-d0de-0444672ba1b7"
      },
      "execution_count": null,
      "outputs": [
        {
          "output_type": "stream",
          "name": "stdout",
          "text": [
            "prime number 2\n",
            "prime number 3\n",
            "not prime 4\n",
            "prime number 5\n",
            "not prime 6\n",
            "prime number 7\n",
            "not prime 8\n",
            "not prime 9\n",
            "not prime 10\n",
            "prime number 11\n"
          ]
        }
      ]
    },
    {
      "cell_type": "code",
      "source": [
        "# 140 to 160 check armstrong\n",
        "for n in range(140,161):\n",
        "  a=0\n",
        "  b=n\n",
        "  while(b>0):\n",
        "    rem=b%10\n",
        "    a+=rem**3\n",
        "    b//=10\n",
        "  if(n==a):\n",
        "    print(\"armstrong\",n)\n",
        "  else:\n",
        "    print(\"not armstrong\",n)"
      ],
      "metadata": {
        "colab": {
          "base_uri": "https://localhost:8080/"
        },
        "id": "7WKxFdDONy4C",
        "outputId": "bb90db7a-b64e-458d-d7a5-e671a0cfcfef"
      },
      "execution_count": null,
      "outputs": [
        {
          "output_type": "stream",
          "name": "stdout",
          "text": [
            "not armstrong 140\n",
            "not armstrong 141\n",
            "not armstrong 142\n",
            "not armstrong 143\n",
            "not armstrong 144\n",
            "not armstrong 145\n",
            "not armstrong 146\n",
            "not armstrong 147\n",
            "not armstrong 148\n",
            "not armstrong 149\n",
            "not armstrong 150\n",
            "not armstrong 151\n",
            "not armstrong 152\n",
            "armstrong 153\n",
            "not armstrong 154\n",
            "not armstrong 155\n",
            "not armstrong 156\n",
            "not armstrong 157\n",
            "not armstrong 158\n",
            "not armstrong 159\n",
            "not armstrong 160\n"
          ]
        }
      ]
    },
    {
      "cell_type": "code",
      "source": [
        "for i in range(1,5):\n",
        "  for j in range(1,5):\n",
        "    print(\"*\",end=\" \")\n",
        "\n",
        "  print(\"\")"
      ],
      "metadata": {
        "colab": {
          "base_uri": "https://localhost:8080/"
        },
        "id": "ZZ1yyYl_PZtx",
        "outputId": "e4bb9ff4-0663-448c-c87c-b8c14722d344"
      },
      "execution_count": null,
      "outputs": [
        {
          "output_type": "stream",
          "name": "stdout",
          "text": [
            "* * * * \n",
            "* * * * \n",
            "* * * * \n",
            "* * * * \n"
          ]
        }
      ]
    },
    {
      "cell_type": "code",
      "source": [
        "for i in range(1,5):\n",
        "  for j in range(1,4):\n",
        "    print(\"*\", end=\" \")\n",
        "\n",
        "  print(\"\")"
      ],
      "metadata": {
        "colab": {
          "base_uri": "https://localhost:8080/"
        },
        "id": "lPg_5VrpU_UF",
        "outputId": "6eb693b3-58f5-435c-c665-666f4127e63e"
      },
      "execution_count": null,
      "outputs": [
        {
          "output_type": "stream",
          "name": "stdout",
          "text": [
            "* * * \n",
            "* * * \n",
            "* * * \n",
            "* * * \n"
          ]
        }
      ]
    },
    {
      "cell_type": "code",
      "source": [],
      "metadata": {
        "id": "7SV0sqgcVXGS"
      },
      "execution_count": null,
      "outputs": []
    }
  ]
}