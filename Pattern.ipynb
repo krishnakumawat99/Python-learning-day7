{
  "nbformat": 4,
  "nbformat_minor": 0,
  "metadata": {
    "colab": {
      "provenance": []
    },
    "kernelspec": {
      "name": "python3",
      "display_name": "Python 3"
    },
    "language_info": {
      "name": "python"
    }
  },
  "cells": [
    {
      "cell_type": "code",
      "execution_count": 1,
      "metadata": {
        "colab": {
          "base_uri": "https://localhost:8080/"
        },
        "id": "tekb3h3BiFVt",
        "outputId": "a4328645-f3b7-4ab2-f44d-006299664491"
      },
      "outputs": [
        {
          "output_type": "stream",
          "name": "stdout",
          "text": [
            "* * * * \n",
            "* * * * \n",
            "* * * * \n",
            "* * * * \n"
          ]
        }
      ],
      "source": [
        "for i in range(1,5):\n",
        "  for j in range(1,5):\n",
        "    print(\"*\",end=\" \")\n",
        "\n",
        "  print(\"\")"
      ]
    },
    {
      "cell_type": "code",
      "source": [
        "for i in range(1,5):\n",
        "  for j in range(1,4):\n",
        "    print(\"*\",end=\" \")\n",
        "\n",
        "  print(\"\")"
      ],
      "metadata": {
        "colab": {
          "base_uri": "https://localhost:8080/"
        },
        "id": "vygx3CdPiN5G",
        "outputId": "0bc61ae0-c996-4e7f-90e6-6841e4dbe904"
      },
      "execution_count": 2,
      "outputs": [
        {
          "output_type": "stream",
          "name": "stdout",
          "text": [
            "* * * \n",
            "* * * \n",
            "* * * \n",
            "* * * \n"
          ]
        }
      ]
    },
    {
      "cell_type": "code",
      "source": [],
      "metadata": {
        "id": "4pR2LngEjBex"
      },
      "execution_count": null,
      "outputs": []
    }
  ]
}